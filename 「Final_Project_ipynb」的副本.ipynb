{
  "cells": [
    {
      "cell_type": "markdown",
      "metadata": {
        "id": "view-in-github",
        "colab_type": "text"
      },
      "source": [
        "<a href=\"https://colab.research.google.com/github/Iriswu55555/Predicting-Math-RLA-Achievement-Using-Deep-Learning/blob/main/%E3%80%8CFinal_Project_ipynb%E3%80%8D%E7%9A%84%E5%89%AF%E6%9C%AC.ipynb\" target=\"_parent\"><img src=\"https://colab.research.google.com/assets/colab-badge.svg\" alt=\"Open In Colab\"/></a>"
      ]
    },
    {
      "cell_type": "code",
      "execution_count": null,
      "metadata": {
        "colab": {
          "background_save": true,
          "base_uri": "https://localhost:8080/"
        },
        "id": "5OQ_5353Imm2",
        "outputId": "4f625e14-1f3c-4f88-9b22-09574347057b"
      },
      "outputs": [
        {
          "name": "stderr",
          "output_type": "stream",
          "text": [
            "Installing package into ‘/usr/local/lib/R/site-library’\n",
            "(as ‘lib’ is unspecified)\n",
            "\n",
            "Installing package into ‘/usr/local/lib/R/site-library’\n",
            "(as ‘lib’ is unspecified)\n",
            "\n",
            "Installing package into ‘/usr/local/lib/R/site-library’\n",
            "(as ‘lib’ is unspecified)\n",
            "\n",
            "Installing package into ‘/usr/local/lib/R/site-library’\n",
            "(as ‘lib’ is unspecified)\n",
            "\n",
            "Installing package into ‘/usr/local/lib/R/site-library’\n",
            "(as ‘lib’ is unspecified)\n",
            "\n",
            "Installing package into ‘/usr/local/lib/R/site-library’\n",
            "(as ‘lib’ is unspecified)\n",
            "\n",
            "Installing package into ‘/usr/local/lib/R/site-library’\n",
            "(as ‘lib’ is unspecified)\n",
            "\n",
            "Installing package into ‘/usr/local/lib/R/site-library’\n",
            "(as ‘lib’ is unspecified)\n",
            "\n",
            "Installing package into ‘/usr/local/lib/R/site-library’\n",
            "(as ‘lib’ is unspecified)\n",
            "\n",
            "also installing the dependencies ‘future’, ‘future.apply’, ‘lava’, ‘prodlim’, ‘clock’, ‘gower’, ‘hardhat’, ‘ipred’, ‘timeDate’, ‘e1071’, ‘foreach’, ‘plyr’, ‘pROC’, ‘recipes’, ‘reshape2’\n",
            "\n",
            "\n"
          ]
        }
      ],
      "source": [
        "install.packages(\"tidyverse\")\n",
        "install.packages(\"ggplot2\")\n",
        "install.packages(\"dplyr\")\n",
        "install.packages(\"keras\")\n",
        "install.packages(\"reticulate\")\n",
        "install.packages(\"keras\")\n",
        "install.packages(\"ISLR2\")\n",
        "install.packages(\"tensorflow\")\n",
        "install.packages(\"caret\")\n"
      ]
    },
    {
      "cell_type": "code",
      "execution_count": null,
      "metadata": {
        "id": "CUOfL-ETII5u"
      },
      "outputs": [],
      "source": [
        "# load libraries\n",
        "library(tidyverse)\n",
        "library(ggplot2)\n",
        "library(dplyr)\n",
        "library(tidyverse)\n",
        "library(keras)\n",
        "library(tensorflow)\n",
        "library(reticulate)\n",
        "\n",
        "# clear environment\n",
        "rm(list=ls())"
      ]
    },
    {
      "cell_type": "markdown",
      "metadata": {
        "id": "e-ZUTfLBJbHl"
      },
      "source": [
        "Load data from .csv file"
      ]
    },
    {
      "cell_type": "code",
      "execution_count": null,
      "metadata": {
        "id": "2KidU5liI-va"
      },
      "outputs": [],
      "source": [
        "Data <- read.csv('/content/Data_Table_01.csv')"
      ]
    },
    {
      "cell_type": "markdown",
      "metadata": {
        "id": "WlDCNPI1I2tk"
      },
      "source": [
        "Make some plots"
      ]
    },
    {
      "cell_type": "code",
      "execution_count": null,
      "metadata": {
        "id": "HpLm0VyxI2TA"
      },
      "outputs": [],
      "source": [
        "# scatter plot of longiude and latitude\n",
        "ggplot(Data,aes(x=lon,y=lat,)) + geom_point()\n",
        "\n",
        "# scatter plot of longiude and latitude\n",
        "ggplot(Data[!is.na(Data$locale),],aes(x=lon,y=lat,)) + geom_point()\n",
        "\n",
        "# scatter plot of longiude and latitude\n",
        "ggplot(Data[!is.na(Data$cs_mn_avg_ol),],aes(x=lon,y=lat,)) + geom_point()\n"
      ]
    },
    {
      "cell_type": "markdown",
      "metadata": {
        "id": "MkeXv3w3onM3"
      },
      "source": [
        "Load image dataset"
      ]
    },
    {
      "cell_type": "code",
      "execution_count": null,
      "metadata": {
        "colab": {
          "base_uri": "https://localhost:8080/",
          "height": 34
        },
        "id": "s8Mlm6P_wOHF",
        "outputId": "be503882-a4de-48e3-e4c5-a400e3c74da3"
      },
      "outputs": [
        {
          "data": {
            "text/html": [
              "'/content'"
            ],
            "text/latex": "'/content'",
            "text/markdown": "'/content'",
            "text/plain": [
              "[1] \"/content\""
            ]
          },
          "metadata": {},
          "output_type": "display_data"
        }
      ],
      "source": [
        "getwd()\n",
        "dir_list <- list.dirs(\"\",recursive = FALSE) "
      ]
    },
    {
      "cell_type": "code",
      "execution_count": null,
      "metadata": {
        "colab": {
          "base_uri": "https://localhost:8080/"
        },
        "id": "Dya8n8d_nBpW",
        "outputId": "1b9356ab-c8aa-46a3-df0a-e971501426ed"
      },
      "outputs": [
        {
          "name": "stderr",
          "output_type": "stream",
          "text": [
            "Warning message in unzip(\"google_maps_satellite_227_227_14_classes.zip\"):\n",
            "“error 1 in extracting from zip file”\n"
          ]
        }
      ],
      "source": [
        "unzip(\"google_maps_satellite_227_227_14_classes.zip\")"
      ]
    },
    {
      "cell_type": "code",
      "execution_count": null,
      "metadata": {
        "id": "455GnX-Cotxq"
      },
      "outputs": [],
      "source": [
        "img_height <- as.integer(180)\n",
        "img_width <- as.integer(180)\n",
        "channels <- as.integer(3)\n",
        "batch_size <- as.integer(128)\n",
        "num_classes <- as.integer(3)"
      ]
    },
    {
      "cell_type": "code",
      "execution_count": null,
      "metadata": {
        "id": "WamLaOnLlnR_"
      },
      "outputs": [],
      "source": [
        "maps <- (\"google_maps_satellite_227_227_14_classes\")\n",
        "train_data_gen <- image_data_generator(rescale = 1/255, \n",
        "  validation_split = .2)\n",
        "train_images <- flow_images_from_directory(maps,\n",
        "  train_data_gen,\n",
        "  subset = 'training',\n",
        "  class_mode = \"categorical\",\n",
        "  shuffle=F,\n",
        "  seed = 2021)"
      ]
    },
    {
      "cell_type": "code",
      "execution_count": null,
      "metadata": {
        "id": "q4vChwJpv7hK"
      },
      "outputs": [],
      "source": [
        "train_ds <- image_dataset_from_directory(\n",
        "    \"google_maps_satellite_227_227_14_classes\",\n",
        "    validation_split=0.2,\n",
        "    subset=\"training\",\n",
        "    seed=1337,\n",
        "    image_size=c(img_height,img_width),\n",
        "    batch_size=batch_size,\n",
        ")\n",
        "\n",
        "test_ds <- image_dataset_from_directory(\n",
        "    \"google_maps_satellite_227_227_14_classes\",\n",
        "    validation_split=0.2,\n",
        "    subset=\"validation\",\n",
        "    seed=1337,\n",
        "    image_size=c(img_height,img_width),\n",
        "    batch_size=batch_size,\n",
        ")"
      ]
    },
    {
      "cell_type": "code",
      "execution_count": null,
      "metadata": {
        "id": "ebcUYxNglDcI"
      },
      "outputs": [],
      "source": [
        "#Print class names\n",
        "class_names = train_ds$class_names\n",
        "print(class_names)"
      ]
    },
    {
      "cell_type": "markdown",
      "metadata": {
        "id": "rhGK6vUl560I"
      },
      "source": [
        "Regular dense network:"
      ]
    },
    {
      "cell_type": "code",
      "execution_count": null,
      "metadata": {
        "id": "SgZ8oLCP58p2"
      },
      "outputs": [],
      "source": [
        "#Build the model\n",
        "nn_dense <- keras_model_sequential() %>%\n",
        "  #input layer\n",
        "  layer_dense(units = 100, input_shape = ncol(train_ds), kernel_regularizer = regularizer_l2(0.001), kernel_initializer = initializer_random_normal(mean = 0, stddev = 1/sqrt(100))) %>%\n",
        "  layer_activation(\"relu\") %>%\n",
        "  layer_dropout(rate = 0.5) %>%\n",
        "  #hidden layer one\n",
        "  layer_dense(units = 50, kernel_regularizer = regularizer_l2(0.001), kernel_initializer = initializer_random_normal(mean = 0, stddev = 1/sqrt(50))) %>%\n",
        "  layer_activation(\"relu\") %>%\n",
        "  layer_dropout(rate = 0.5) %>%\n",
        "  #hidden layer two\n",
        "  layer_dense(units = 25, kernel_regularizer = regularizer_l2(0.001), kernel_initializer = initializer_random_normal(mean = 0, stddev = 1/sqrt(25))) %>%\n",
        "  layer_activation(\"relu\") %>%\n",
        "  layer_dropout(rate = 0.5) %>%\n",
        "  #hidden layer three\n",
        "  layer_dense(units = 10, kernel_regularizer = regularizer_l2(0.001), kernel_initializer = initializer_random_normal(mean = 0, stddev = 1/sqrt(10))) %>%\n",
        "  layer_activation(\"relu\") %>%\n",
        "  layer_dropout(rate = 0.5) %>%\n",
        "  #output layer \n",
        "  layer_dense(units = ncol(y_train), kernel_regularizer = regularizer_l2(0.001), kernel_initializer = initializer_random_normal(mean = 0, stddev = 1/sqrt(ncol(y_train)))) %>%\n",
        "  layer_activation(\"softmax\")"
      ]
    },
    {
      "cell_type": "markdown",
      "metadata": {
        "id": "ZG9cHMMim2Zr"
      },
      "source": [
        "CNN example:"
      ]
    },
    {
      "cell_type": "code",
      "execution_count": null,
      "metadata": {
        "id": "NTvA5LTUm3v4"
      },
      "outputs": [],
      "source": [
        "#Build model\n",
        "cnn_model <- keras_model_sequential() %>%\n",
        "  layer_rescaling(1/255, input_shape=c(img_height,img_width,channels)) %>%\n",
        "  layer_conv_2d(16, 3, padding='same', activation='relu') %>%\n",
        "  layer_max_pooling_2d() %>%\n",
        "  layer_conv_2d(32, 3, padding='same', activation='relu') %>%\n",
        "  layer_max_pooling_2d() %>%\n",
        "  layer_conv_2d(64, 3, padding='same', activation='relu') %>%\n",
        "  layer_max_pooling_2d() %>%\n",
        "  layer_flatten() %>%\n",
        "  layer_dense(128, activation='relu') %>%\n",
        "  layer_dense(num_classes)"
      ]
    },
    {
      "cell_type": "code",
      "execution_count": null,
      "metadata": {
        "id": "8CENMaXMm7DI"
      },
      "outputs": [],
      "source": [
        "#from_logits should be set to true since softmax was not used in the last output layer\n",
        "#If softmax is used in the output layer then from_logits should be set to false (which is the default)\n",
        "cnn_model %>% compile(\n",
        "  loss = loss_mean_squared_error(),\n",
        "  optimizer = optimizer_adam(),\n",
        "  metrics = c('accuracy')\n",
        ")"
      ]
    },
    {
      "cell_type": "code",
      "execution_count": null,
      "metadata": {
        "id": "x1M7fstBm-5D"
      },
      "outputs": [],
      "source": [
        "summary(cnn_model)"
      ]
    },
    {
      "cell_type": "code",
      "execution_count": null,
      "metadata": {
        "id": "m2XUk0QnnBAH"
      },
      "outputs": [],
      "source": [
        "epochs <- 3\n",
        "cnn_history <- cnn_model %>% fit(\n",
        "  train_ds,\n",
        "  epochs = epochs,\n",
        "  validation_data = test_ds,\n",
        "  verbose=1\n",
        ")"
      ]
    },
    {
      "cell_type": "code",
      "execution_count": null,
      "metadata": {
        "colab": {
          "base_uri": "https://localhost:8080/",
          "height": 437
        },
        "id": "yI3vU56VnDnU",
        "outputId": "e5482162-cba0-4f53-89b1-58ccdffa72df"
      },
      "outputs": [
        {
          "data": {
            "image/png": "[encoded data removed]",
            "text/plain": [
              "plot without title"
            ]
          },
          "metadata": {
            "image/png": {
              "height": 420,
              "width": 420
            }
          },
          "output_type": "display_data"
        }
      ],
      "source": [
        "plot(cnn_history)"
      ]
    },
    {
      "cell_type": "code",
      "execution_count": null,
      "metadata": {
        "id": "m9tnt05UCGJi"
      },
      "outputs": [],
      "source": [
        "cnn_history"
      ]
    },
    {
      "cell_type": "code",
      "execution_count": null,
      "metadata": {
        "id": "VcaVmGsmnFgX"
      },
      "outputs": [],
      "source": [
        "#Augment data\n",
        "data_augmentation <- keras_model_sequential() %>%\n",
        "  layer_random_flip(\"horizontal\", input_shape=c(img_height,img_width,channels)) %>%\n",
        "  layer_random_rotation(0.1) %>%\n",
        "  layer_random_zoom(0.1)"
      ]
    },
    {
      "cell_type": "code",
      "execution_count": null,
      "metadata": {
        "id": "q6RsBB-jnG3W"
      },
      "outputs": [],
      "source": [
        "#Build model with data augmentation\n",
        "cnn_model <- keras_model_sequential() %>%\n",
        "  data_augmentation %>%\n",
        "  layer_rescaling(1/255) %>%\n",
        "  layer_conv_2d(16, 3, padding='same', activation='relu') %>%\n",
        "  layer_max_pooling_2d() %>%\n",
        "  layer_conv_2d(32, 3, padding='same', activation='relu') %>%\n",
        "  layer_max_pooling_2d() %>%\n",
        "  layer_conv_2d(64, 3, padding='same', activation='relu') %>%\n",
        "  layer_max_pooling_2d() %>%\n",
        "  layer_dropout(0.2) %>%\n",
        "  layer_flatten() %>%\n",
        "  layer_dense(128, activation='relu') %>%\n",
        "  layer_dense(num_classes)"
      ]
    },
    {
      "cell_type": "code",
      "execution_count": null,
      "metadata": {
        "id": "4zThe20NnISS"
      },
      "outputs": [],
      "source": [
        "cnn_model %>% compile(\n",
        "  loss = loss_mean_squared_error(),\n",
        "  optimizer = optimizer_adam(),\n",
        "  metrics = c('accuracy')\n",
        ")"
      ]
    },
    {
      "cell_type": "code",
      "execution_count": null,
      "metadata": {
        "id": "V8mAyejynIcn"
      },
      "outputs": [],
      "source": [
        "epochs <- 3\n",
        "cnn_history_2 <- cnn_model %>% fit(\n",
        "  train_ds,\n",
        "  epochs = epochs,\n",
        "  validation_data = test_ds,\n",
        "  verbose=1\n",
        ")"
      ]
    },
    {
      "cell_type": "code",
      "execution_count": null,
      "metadata": {
        "colab": {
          "base_uri": "https://localhost:8080/",
          "height": 437
        },
        "id": "gz7OIMTTnLFo",
        "outputId": "8a7f3011-adb6-4c39-bb15-cd5d65b7cec9"
      },
      "outputs": [
        {
          "data": {
            "image/png": "[encoded data removed]",
            "text/plain": [
              "plot without title"
            ]
          },
          "metadata": {
            "image/png": {
              "height": 420,
              "width": 420
            }
          },
          "output_type": "display_data"
        }
      ],
      "source": [
        "plot(cnn_history_2)"
      ]
    },
    {
      "cell_type": "code",
      "execution_count": null,
      "metadata": {
        "id": "VtemkhFonNNC"
      },
      "outputs": [],
      "source": [
        "# Predict\n",
        "predictions <- cnn_model %>% predict(test_ds)\n",
        "predictions[1, ]\n",
        "which.max(predictions[1, ])"
      ]
    },
    {
      "cell_type": "markdown",
      "metadata": {
        "id": "ZKhghiZ-m019"
      },
      "source": [
        "Transfer learning:"
      ]
    },
    {
      "cell_type": "code",
      "execution_count": null,
      "metadata": {
        "id": "ausHfF7mlH4T"
      },
      "outputs": [],
      "source": [
        "#Load the Xception pre-trained model\n",
        "#include_top=False means that you’re not interested in the last layer of the model. You will be creating and training this layer yourself.\n",
        "base_model <- application_xception(weights='imagenet',input_shape=c(img_height,img_width,3),include_top=FALSE)"
      ]
    },
    {
      "cell_type": "code",
      "execution_count": null,
      "metadata": {
        "id": "ZTuGhynslJH7"
      },
      "outputs": [],
      "source": [
        "#To prevent the base model being retrained\n",
        "base_model.trainable <- FALSE"
      ]
    },
    {
      "cell_type": "code",
      "execution_count": null,
      "metadata": {
        "id": "a_nhWNDrlLC6"
      },
      "outputs": [],
      "source": [
        "finetune_model <- base_model$output %>% \n",
        "  layer_global_average_pooling_2d(trainable = T) %>%  \n",
        "  layer_dense(64, activation = \"relu\", trainable = T) %>%  # trainable parameter set to true indicates that the weights for this layer will be updated during training\n",
        "  layer_dropout(0.4, trainable = T) %>%\n",
        "  layer_dense(3, activation = \"softmax\", trainable=T)\n",
        "\n",
        "model <- keras_model(inputs = base_model$input, outputs = finetune_model)"
      ]
    },
    {
      "cell_type": "code",
      "execution_count": null,
      "metadata": {
        "id": "4FI77eUolOgf"
      },
      "outputs": [],
      "source": [
        "#Set the base model layers to be not trainable. i.e do not update weights during training\n",
        "for (layer in base_model$layers)\n",
        "  layer$trainable <- FALSE"
      ]
    },
    {
      "cell_type": "code",
      "execution_count": null,
      "metadata": {
        "id": "iTRQdyy-lQ0Y"
      },
      "outputs": [],
      "source": [
        "#Compile and fit\n",
        "model %>% compile(\n",
        "  loss = loss_mean_squared_error(),\n",
        "  optimizer = optimizer_adam(),\n",
        "  metrics = c('accuracy')\n",
        ")\n",
        "\n",
        "epochs <- 2\n",
        "model_history <- model %>% fit(\n",
        "  train_ds,\n",
        "  epochs = epochs,\n",
        "  validation_data = test_ds,\n",
        "  verbose=1\n",
        ")"
      ]
    },
    {
      "cell_type": "code",
      "execution_count": null,
      "metadata": {
        "id": "lvSJJA_9lTmx"
      },
      "outputs": [],
      "source": [
        "model_history"
      ]
    }
  ],
  "metadata": {
    "colab": {
      "provenance": [],
      "include_colab_link": true
    },
    "gpuClass": "standard",
    "kernelspec": {
      "display_name": "R",
      "name": "ir"
    },
    "language_info": {
      "name": "R"
    }
  },
  "nbformat": 4,
  "nbformat_minor": 0
}